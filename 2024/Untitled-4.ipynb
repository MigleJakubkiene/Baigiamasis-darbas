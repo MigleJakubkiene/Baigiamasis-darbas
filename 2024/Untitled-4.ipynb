{
 "cells": [
  {
   "cell_type": "code",
   "execution_count": 2,
   "metadata": {},
   "outputs": [
    {
     "name": "stdout",
     "output_type": "stream",
     "text": [
      "Numbers: [1, 2, 3, 4, 5, 6, 7, 8, 9, 5, 1, 2, 3, 5, 4]\n",
      "Even-indexed items: [1, 3, 5, 7, 9, 4, 1, 3, 5, 7, 9, 1, 3, 4]\n",
      "Uneven-indexed items: [2, 4, 6, 8, 5, 2, 4, 6, 8, 5, 2, 5]\n"
     ]
    }
   ],
   "source": [
    "#Sukurkite funkciją kuri priimtų sąrašą ir grąžintų du naujus. Pirmas turi būti sudarytas iš neporinių indeksų reikšmių, \n",
    "#o kitas iš porinių; Aprašykite papildomą priimamą parametrą kurį perdavus reikšmės grąžinamuose sąrašuose būtų unikalios.\n",
    "Numbers=[1,2,3,4,5,6,7,8,9,5,1,2,3,5,4]\n",
    "even_list = []\n",
    "uneven_list = []\n",
    "def even_uneven_list(Numbers, even_list, uneven_list, unique):\n",
    "    for index, item in enumerate(Numbers):\n",
    "        if index % 2 == 0:\n",
    "            if not unique or item not in even_list:\n",
    "                even_list.append(item)\n",
    "        else:\n",
    "            if not unique or item not in uneven_list:\n",
    "                uneven_list.append(item)\n",
    "    return even_list, uneven_list\n",
    "\n",
    "even_uneven_list(Numbers, even_list, uneven_list, True)\n",
    "even_uneven_list(Numbers, even_list, uneven_list, False)\n",
    "print(\"Numbers:\", Numbers)\n",
    "print(\"Even-indexed items:\", even_list)\n",
    "print(\"Uneven-indexed items:\", uneven_list)"
   ]
  },
  {
   "cell_type": "code",
   "execution_count": null,
   "metadata": {},
   "outputs": [],
   "source": [
    "#Sukurkite funkciją kuri priimtų sąrašą ir grąžintų jo elementus su poriniais indeksais pavertusi 0 jeigu reikšmė buvo didesnė už 15;\n",
    "#pvz [18, 22, 5, 8, 16] rezultatas [0, 22, 5, 8, 0] \n",
    "\n",
    "def highest_value(Numbers):\n",
    "    highest_number = max(Numbers)\n",
    "    index = Numbers.index(highest_number)\n",
    "    \n",
    "    return highest_number, index\n",
    "\n",
    "data = highest_value(Numbers)\n",
    "print(\"Numbers:\", Numbers)\n",
    "print(\"Highest value and its index:\", data)"
   ]
  }
 ],
 "metadata": {
  "kernelspec": {
   "display_name": "Python 3",
   "language": "python",
   "name": "python3"
  },
  "language_info": {
   "codemirror_mode": {
    "name": "ipython",
    "version": 3
   },
   "file_extension": ".py",
   "mimetype": "text/x-python",
   "name": "python",
   "nbconvert_exporter": "python",
   "pygments_lexer": "ipython3",
   "version": "3.13.0"
  }
 },
 "nbformat": 4,
 "nbformat_minor": 2
}
