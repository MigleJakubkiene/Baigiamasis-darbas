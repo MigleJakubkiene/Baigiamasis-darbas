{
 "cells": [
  {
   "cell_type": "code",
   "execution_count": null,
   "metadata": {},
   "outputs": [],
   "source": [
    "# Primityvieji duomenų tipai\n",
    "# str (string) - tekstinis tipas\n",
    "# int (integer) - sveikas skaičius\n",
    "# float - skaičius po kablelio\n",
    "# bool (boolean) - true arba false reikšmės"
   ]
  },
  {
   "cell_type": "code",
   "execution_count": null,
   "metadata": {},
   "outputs": [],
   "source": [
    "# norint sujungti du stringus į vieną yra naudojamas + operatorius\n",
    "# str() yra funkcija kuri konvertuoja duomenį į str duomens tipą\n",
    "\n",
    "#print(\"Rezultatas: \" + str(rezultatas))"
   ]
  },
  {
   "cell_type": "code",
   "execution_count": 1,
   "metadata": {},
   "outputs": [
    {
     "name": "stdout",
     "output_type": "stream",
     "text": [
      "30 + 5 + 2 = 37\n"
     ]
    }
   ],
   "source": [
    "pirmas = 30\n",
    "antras = 5\n",
    "trecias = 2\n",
    "\n",
    "rezultatas = pirmas + antras + trecias\n",
    "\n",
    "print(str(pirmas) + \" + \" + str(antras) + \" + \" + str(trecias) + \" = \" + str(rezultatas))"
   ]
  },
  {
   "cell_type": "code",
   "execution_count": 2,
   "metadata": {},
   "outputs": [
    {
     "name": "stdout",
     "output_type": "stream",
     "text": [
      "20\n",
      "VILIJA BLINKEVIČIŪTĖ\n",
      "vilija blinkevičiūtė\n"
     ]
    }
   ],
   "source": [
    "tekstas = \"Vilija Blinkevičiūtė\"\n",
    "# len() funkcija grąžina stringo ilgį\n",
    "# tarpeliai kaip ir visi kiti simboliau yra įskaičiuojami į bendrą stringo ilgį\n",
    "print(len(tekstas))\n",
    "\n",
    "# metodas zymimas objektas.metodoPavadinimas()\n",
    "# metodas nekeičia originalios kintamojo reikšmės\n",
    "\n",
    "tekstas = tekstas.upper()\n",
    "print(tekstas.upper())\n",
    "\n",
    "# metodas lower() pakeičia stringo raides į mažąsias\n",
    "print(tekstas.lower())"
   ]
  },
  {
   "cell_type": "code",
   "execution_count": 3,
   "metadata": {},
   "outputs": [
    {
     "name": "stdout",
     "output_type": "stream",
     "text": [
      "Ramūnas Blinkevičiūtė\n",
      "Geri vyrai leroj lirioj lerą lirą leria\n"
     ]
    }
   ],
   "source": [
    "# metodas replace(KA_KEICIAM, KUOM_KEICIAM) - pakeičia pasirinktą stringo dalį į kažkurį kitą stringą\n",
    "# DIDŽIOSIOS IR MAŽOSIOS RAIDĖS TURI SKIRIASI\n",
    "\n",
    "tekstas = \"Vilija Blinkevičiūtė\"\n",
    "print(tekstas.replace('Vilija', 'Ramūnas'))\n",
    "\n",
    "tekstas = \"Geri vyrai geroj girioj gerą girą geria\"\n",
    "\n",
    "print(tekstas.replace(\"g\", \"l\"))"
   ]
  },
  {
   "cell_type": "code",
   "execution_count": 8,
   "metadata": {},
   "outputs": [
    {
     "name": "stdout",
     "output_type": "stream",
     "text": [
      "V\n",
      "ilij\n",
      "l\n",
      "i\n",
      "j\n"
     ]
    }
   ],
   "source": [
    "# Norint paimti pirmą simbolį iš stringo\n",
    "# Indeksas - nurodo simbolio poziciją stringe\n",
    "\n",
    "tekstas = \"Vilija Blinkevičiūtė\"\n",
    "print(tekstas[0])\n",
    "print(tekstas[1:5])\n",
    "print(tekstas[2])\n",
    "print(tekstas[3])\n",
    "print(tekstas[4])\n",
    "\n"
   ]
  },
  {
   "cell_type": "code",
   "execution_count": 9,
   "metadata": {},
   "outputs": [
    {
     "name": "stdout",
     "output_type": "stream",
     "text": [
      "a\n"
     ]
    }
   ],
   "source": [
    "tekstas = \"Geri vyrai geroj girioj gerą girą geria\"\n",
    "\n",
    "print(tekstas[len(tekstas) - 1])"
   ]
  },
  {
   "cell_type": "code",
   "execution_count": 10,
   "metadata": {},
   "outputs": [
    {
     "name": "stdout",
     "output_type": "stream",
     "text": [
      "Varde yra 6 simboliai\n",
      "Pavardeje yra 10 simboliai\n"
     ]
    }
   ],
   "source": [
    "vardas = 'Vilius'\n",
    "pavarde = 'Ramulionis'\n",
    "\n",
    "print(\"Varde yra \" + str(len(vardas)) + \" simboliai\")\n",
    "print(\"Pavardeje yra \" + str(len(pavarde)) + \" simboliai\")"
   ]
  },
  {
   "cell_type": "code",
   "execution_count": null,
   "metadata": {},
   "outputs": [],
   "source": [
    "# Iš delfi antraštės atrinkite pirmus 10 simbolių; paskutinius 10; kas antrą; iškirpkite tekstą nuo 10-to iki 20-to simbolių;\n",
    "print(\"Pirmi dešimt simbolių:\", tekstas[0:10])\n",
    "print(\"Paskutiniai dešimt simbolių:\", tekstas[-10:])\n",
    "print(\"Kas antras simbolis:\", tekstas[::2])\n",
    "print(\"Nuo 10 iki 20:\", tekstas[10:20])"
   ]
  },
  {
   "cell_type": "code",
   "execution_count": null,
   "metadata": {},
   "outputs": [],
   "source": [
    "# Kiek delfi antraštėje yra \"a\" simbolių? Kurioje pozicijoje yra pirmąkart sutinkamas šis simbolis?\n",
    "\n",
    "print(\"Raidė a panaudota: \", tekstas.count('a'))\n",
    "print(\"Pirma pozicija: \", tekstas.find('a'))"
   ]
  },
  {
   "cell_type": "code",
   "execution_count": 11,
   "metadata": {},
   "outputs": [
    {
     "name": "stdout",
     "output_type": "stream",
     "text": [
      "['Asta', 'Tomas', 'Arūnas', 'Žydrūnas', 'Šarūnas']\n"
     ]
    }
   ],
   "source": [
    "# Norint pridėti naują elementą į sąrašo pabaigą\n",
    "sarasas = [\n",
    "    \"Asta\", \n",
    "    \"Tomas\", \n",
    "    \"Arūnas\", \n",
    "    \"Žydrūnas\",]\n",
    "sarasas.append(\"Šarūnas\")\n",
    "print(sarasas)\n",
    "\n",
    "# Norint pridėti naują elementą į norimą sąrašo poziciją\n",
    "sarasas.insert(0, \"Miglė\")\n",
    "\n",
    "# Norint pasalinti elementą iš sąrašo nurodant indeksą:\n",
    "sarasas.pop(5)\n",
    "\n",
    "# Skaičiuojame kiek kartų vardas Arūnas paminėtas sąraše\n",
    "print(sarasas.count('Arūnas'))\n",
    "\n",
    "# Norint išvalyti sąrašą:\n",
    "sarasas.clear()\n",
    "\n",
    "# Norint ištraukti saraso elementus pagal nurodytas pozicijas (nuo - iki)\n",
    "print(sarasas[2:5])"
   ]
  },
  {
   "cell_type": "code",
   "execution_count": 15,
   "metadata": {},
   "outputs": [
    {
     "name": "stdout",
     "output_type": "stream",
     "text": [
      "Nepatogūs\n"
     ]
    }
   ],
   "source": [
    "# Norint konvertuoti stringą į sąrašą\n",
    "tekstas = \"Nepatogūs klausimai su Rolandu Mackevičiumi. Svečiuose – Džordana Butkutė\"\n",
    "\n",
    "# tekstas.split() metodas išskaido stringą į sąrašą (pagal nutylėjimą per kiekvieną tarpelį)\n",
    "# tekstas.split('.') - išskaidytų tekstą į dvi dalis\n",
    "\n",
    "zodziai=tekstas.split()\n",
    "print(zodziai[0])\n",
    "\n",
    "# Sujungia list'ą į vieną stringą\n",
    "print(' '.join(zodziai))"
   ]
  },
  {
   "cell_type": "code",
   "execution_count": null,
   "metadata": {},
   "outputs": [],
   "source": [
    "#Equals: a == b\n",
    "#Not Equals: a != b\n",
    "#Less than: a < b\n",
    "#Less than or equal to: a <= b\n",
    "#Greater than: a > b\n",
    "#Greater than or equal to: a >= b"
   ]
  }
 ],
 "metadata": {
  "kernelspec": {
   "display_name": "Python 3",
   "language": "python",
   "name": "python3"
  },
  "language_info": {
   "codemirror_mode": {
    "name": "ipython",
    "version": 3
   },
   "file_extension": ".py",
   "mimetype": "text/x-python",
   "name": "python",
   "nbconvert_exporter": "python",
   "pygments_lexer": "ipython3",
   "version": "3.13.0"
  }
 },
 "nbformat": 4,
 "nbformat_minor": 2
}
