{
 "cells": [
  {
   "cell_type": "code",
   "execution_count": 2,
   "metadata": {},
   "outputs": [
    {
     "name": "stdout",
     "output_type": "stream",
     "text": [
      "*****\n",
      "*****\n",
      "*****\n",
      "*****\n",
      "*****\n"
     ]
    }
   ],
   "source": [
    "kiekis = 5\n",
    "\n",
    "for y in range(kiekis) :\n",
    "    print(\"*\" * kiekis)"
   ]
  },
  {
   "cell_type": "code",
   "execution_count": 25,
   "metadata": {},
   "outputs": [
    {
     "name": "stdout",
     "output_type": "stream",
     "text": [
      "****** 0\n",
      "****** 1\n",
      "****** 2\n",
      "****** 3\n",
      "****** 4\n",
      "****** 5\n"
     ]
    }
   ],
   "source": [
    "simbolis= input(\"Įveskite sibolį\")\n",
    "\n",
    "kiekis= int(input(\"Įveskite skaičių\"))\n",
    "\n",
    "for y in range(kiekis) :\n",
    "    print(simbolis * kiekis, y)\n"
   ]
  },
  {
   "cell_type": "code",
   "execution_count": 46,
   "metadata": {},
   "outputs": [],
   "source": [
    "\n",
    "skaičius1=int(input(\"Įveskite skaičių :\"))\n",
    "skaičius2=int(input(\"Įveskite skaičių :\"))\n",
    "#veiksmas= str(input(\"Įveskite norimą veiksmą :\"))\n",
    "\n",
    "suma = skaičius1 + skaičius2\n",
    "skirtumas = skaičius1 - skaičius2\n",
    "daugyba = skaičius1 * skaičius2\n",
    "dalyba = skaičius1 / skaičius2\n",
    "\n",
    "\n"
   ]
  }
 ],
 "metadata": {
  "kernelspec": {
   "display_name": "Python 3",
   "language": "python",
   "name": "python3"
  },
  "language_info": {
   "codemirror_mode": {
    "name": "ipython",
    "version": 3
   },
   "file_extension": ".py",
   "mimetype": "text/x-python",
   "name": "python",
   "nbconvert_exporter": "python",
   "pygments_lexer": "ipython3",
   "version": "3.13.0"
  }
 },
 "nbformat": 4,
 "nbformat_minor": 2
}
