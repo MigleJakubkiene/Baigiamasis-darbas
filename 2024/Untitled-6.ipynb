{
 "cells": [
  {
   "cell_type": "code",
   "execution_count": 27,
   "metadata": {},
   "outputs": [
    {
     "name": "stdout",
     "output_type": "stream",
     "text": [
      "Pirminis sąrašas [[18, 19, 5, 12, 17], [25, 9, 6, 23, 8], [10, 15, 25, 22, 10], [22, 20, 8, 18, 14], [5, 6, 10, 15, 7], [13, 15, 13, 24, 7], [13, 8, 17, 20, 22], [25, 10, 5, 19, 23], [23, 17, 23, 11, 12], [14, 15, 24, 23, 12]]\n",
      "Elementai didesni už 10 : 35\n",
      "Didžiausio elemento reikšmė sąraše [19, 25, 25, 22, 15, 24, 22, 25, 23, 24]\n",
      "Vienodų indeksų sumos [168, 134, 136, 187, 132]\n",
      "Prailgintas sąrašas [[18, 19, 5, 12, 17, 15, 8], [25, 9, 6, 23, 8, 7, 9], [10, 15, 25, 22, 10, 12, 11], [22, 20, 8, 18, 14, 24, 22], [5, 6, 10, 15, 7, 10, 18], [13, 15, 13, 24, 7, 10, 23], [13, 8, 17, 20, 22, 15, 18], [25, 10, 5, 19, 23, 7, 20], [23, 17, 23, 11, 12, 22, 9], [14, 15, 24, 23, 12, 18, 16]]\n",
      "Naujas masyvas iš elementų sumų [94, 87, 105, 128, 71, 105, 113, 109, 117, 122]\n"
     ]
    }
   ],
   "source": [
    "#Sugeneruokite sąrašą iš 10 elementų, kurio elementai būtų sąrašai iš 5 elementų su reikšmėmis nuo 5 iki 25.\n",
    "\n",
    "import random\n",
    "def ten_list_of_five():\n",
    "    sarasas = []\n",
    "    for elementai in range(10):\n",
    "        vidinisSarasas = [random.randint(5, 25) for _ in range(5)]\n",
    "        sarasas.append(vidinisSarasas)\n",
    "    return sarasas \n",
    "sarasas = ten_list_of_five()\n",
    "print(\"Pirminis sąrašas\", sarasas)\n",
    "\n",
    "#Priimdami sąrašą kaip parametrą aprašykite funkcijas kurios:\n",
    "#a) Suskaičiuotų kiek sąrašuose yra elementų didesnių už 10;\n",
    "\n",
    "def higher_than_10(sarasas):\n",
    "     count = 0\n",
    "     for vidinisSarasas in sarasas:\n",
    "        for elementas in vidinisSarasas:\n",
    "            if elementas > 10:\n",
    "               count += 1\n",
    "     return count\n",
    "     \n",
    "sarasas1 = higher_than_10(sarasas)       \n",
    "print(\"Elementai didesni už 10 :\", sarasas1)\n",
    "\n",
    "# b) Rastų didžiausio elemento reikšmę;\n",
    "\n",
    "def max_value(sarasas):\n",
    "    max_values = []\n",
    "    for vidinis_listas in sarasas:\n",
    "        max_val = max(vidinis_listas)\n",
    "        max_values.append(max_val)\n",
    "    return max_values\n",
    "max_list = max_value(sarasas)       \n",
    "print(\"Didžiausio elemento reikšmė sąraše\", max_list)  \n",
    "\n",
    "# c)Suskaičiuotų kiekvieno antro lygio sąrašo su vienodais indeksais sumas \n",
    "# (t.y. suma reikšmių turinčių indeksą 0, 1 ir t.t.)\n",
    "def similar_index_values(sarasas):\n",
    "     all_values = [sum(values) \n",
    "        for values in zip(*sarasas)]\n",
    "     return all_values\n",
    "\n",
    "sum_similar_indexes = similar_index_values(sarasas)       \n",
    "print(\"Vienodų indeksų sumos\", sum_similar_indexes)\n",
    " \n",
    "\n",
    "# d) Visus antro lygio sąrašus“pailginkitų” iki 7 elementų\n",
    "\n",
    "def add_2random_numbers(sarasas):\n",
    "    for vidinis_listas in sarasas:\n",
    "        vidinis_listas.extend([random.randint(5, 25) for _ in range(2)])\n",
    "    return sarasas\n",
    "new_sarasas = add_2random_numbers(sarasas)\n",
    "print(\"Prailgintas sąrašas\", new_sarasas)\n",
    "\n",
    "# e) Suskaičiuotų kiekvieno iš antro lygio sąrašų elementų sumas ir jas panaudotų kaip reikšmes sukuriant naują masyvą. \n",
    "#Pavyzdinis rezultatas:\n",
    "#[48, 49]\n",
    "\n",
    "def sum_of_sublists_values(sarasas):\n",
    "    all_sum_values = []\n",
    "    for vidinis_listas in sarasas:\n",
    "        sum_value = sum(vidinis_listas)\n",
    "        all_sum_values.append(sum_value)\n",
    "    return all_sum_values\n",
    "all_sum_values = sum_of_sublists_values(sarasas)\n",
    "print(\"Naujas masyvas iš elementų sumų\", all_sum_values)\n",
    "\n",
    "\n",
    "\n"
   ]
  }
 ],
 "metadata": {
  "kernelspec": {
   "display_name": "Python 3",
   "language": "python",
   "name": "python3"
  },
  "language_info": {
   "codemirror_mode": {
    "name": "ipython",
    "version": 3
   },
   "file_extension": ".py",
   "mimetype": "text/x-python",
   "name": "python",
   "nbconvert_exporter": "python",
   "pygments_lexer": "ipython3",
   "version": "3.13.0"
  }
 },
 "nbformat": 4,
 "nbformat_minor": 2
}
