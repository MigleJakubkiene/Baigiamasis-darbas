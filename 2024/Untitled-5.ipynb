{
 "cells": [
  {
   "cell_type": "code",
   "execution_count": 8,
   "metadata": {},
   "outputs": [
    {
     "name": "stdout",
     "output_type": "stream",
     "text": [
      "[[11, 10, 25, 14, 24], [10, 22, 7, 11, 24], [7, 12, 15, 23, 19], [12, 24, 7, 6, 13], [17, 21, 8, 7, 23], [24, 16, 22, 25, 5], [22, 6, 21, 12, 7], [10, 7, 22, 23, 21], [13, 17, 22, 10, 9], [7, 20, 6, 22, 13]]\n",
      "33\n"
     ]
    },
    {
     "ename": "TypeError",
     "evalue": "'>' not supported between instances of 'list' and 'int'",
     "output_type": "error",
     "traceback": [
      "\u001b[1;31m---------------------------------------------------------------------------\u001b[0m",
      "\u001b[1;31mTypeError\u001b[0m                                 Traceback (most recent call last)",
      "Cell \u001b[1;32mIn[8], line 36\u001b[0m\n\u001b[0;32m     33\u001b[0m             didziausias \u001b[38;5;241m=\u001b[39m skaicius\n\u001b[0;32m     34\u001b[0m     \u001b[38;5;28;01mreturn\u001b[39;00m didziausias\n\u001b[1;32m---> 36\u001b[0m \u001b[38;5;28mprint\u001b[39m(\u001b[43mhighest_number\u001b[49m\u001b[43m(\u001b[49m\u001b[43msarasas\u001b[49m\u001b[43m)\u001b[49m)\n",
      "Cell \u001b[1;32mIn[8], line 32\u001b[0m, in \u001b[0;36mhighest_number\u001b[1;34m(sarasas)\u001b[0m\n\u001b[0;32m     30\u001b[0m didziausias \u001b[38;5;241m=\u001b[39m \u001b[38;5;241m0\u001b[39m\n\u001b[0;32m     31\u001b[0m \u001b[38;5;28;01mfor\u001b[39;00m skaicius \u001b[38;5;129;01min\u001b[39;00m sarasas:\n\u001b[1;32m---> 32\u001b[0m     \u001b[38;5;28;01mif\u001b[39;00m \u001b[43mskaicius\u001b[49m\u001b[43m \u001b[49m\u001b[38;5;241;43m>\u001b[39;49m\u001b[43m \u001b[49m\u001b[43mdidziausias\u001b[49m:\n\u001b[0;32m     33\u001b[0m         didziausias \u001b[38;5;241m=\u001b[39m skaicius\n\u001b[0;32m     34\u001b[0m \u001b[38;5;28;01mreturn\u001b[39;00m didziausias\n",
      "\u001b[1;31mTypeError\u001b[0m: '>' not supported between instances of 'list' and 'int'"
     ]
    }
   ],
   "source": [
    "#Sugeneruokite sąrašą iš 10 elementų, kurio elementai būtų sąrašai iš 5 elementų su reikšmėmis nuo 5 iki 25.\n",
    "\n",
    "import random\n",
    "def ten_list_of_five():\n",
    "    sarasas = []\n",
    "    for elementai in range(10):\n",
    "        vidinisSarasas = [random.randint(5, 25) for _ in range(5)]\n",
    "        sarasas.append(vidinisSarasas)\n",
    "    return sarasas \n",
    "sarasas = ten_list_of_five()\n",
    "print(sarasas)\n",
    "\n",
    "#Priimdami sąrašą kaip parametrą aprašykite funkcijas kurios:\n",
    "#a) Suskaičiuotų kiek sąrašuose yra elementų didesnių už 10;\n",
    "\n",
    "def higher_than_10(sarasas):\n",
    "     count = 0\n",
    "     for vidinisSarasas in sarasas:\n",
    "        for elementas in vidinisSarasas:\n",
    "            if elementas > 10:\n",
    "               count += 1\n",
    "     return count\n",
    "     \n",
    "sarasas1 = higher_than_10(sarasas)       \n",
    "print(sarasas1)\n",
    "\n",
    "# b) Rastų didžiausio elemento reikšmę;\n",
    "\n",
    "def highest_number(sarasas):\n",
    "    didziausias = 0\n",
    "    for vidinisSarasas in sarasas:\n",
    "        for skaicius in sarasas:\n",
    "            if skaicius > didziausias:\n",
    "                didziausias = skaicius\n",
    "        return didziausias\n",
    "\n",
    "sarasas2 = \n",
    "print(highest_number(sarasas))\n",
    "\n",
    "\n"
   ]
  },
  {
   "cell_type": "code",
   "execution_count": null,
   "metadata": {},
   "outputs": [],
   "source": []
  },
  {
   "cell_type": "code",
   "execution_count": null,
   "metadata": {},
   "outputs": [],
   "source": [
    "# b) Rastų didžiausio elemento reikšmę;\n",
    "# c) Suskaičiuotų kiekvieno antro lygio sąrašo su vienodais indeksais sumas (t.y. suma reikšmių turinčių indeksą 0, 1 ir t.t.)\n",
    "#Pavyzdinis rezultatas:\n",
    "#[25, 24, 48]\n",
    "# d) Visus antro lygio sąrašus“pailginkitų” iki 7 elementų\n",
    "# e) Suskaičiuotų kiekvieno iš antro lygio sąrašų elementų sumas ir jas panaudotų kaip reikšmes sukuriant naują masyvą. \n",
    "#Pavyzdinis rezultatas:\n",
    "#[48, 49]"
   ]
  }
 ],
 "metadata": {
  "kernelspec": {
   "display_name": "Python 3",
   "language": "python",
   "name": "python3"
  },
  "language_info": {
   "codemirror_mode": {
    "name": "ipython",
    "version": 3
   },
   "file_extension": ".py",
   "mimetype": "text/x-python",
   "name": "python",
   "nbconvert_exporter": "python",
   "pygments_lexer": "ipython3",
   "version": "3.13.0"
  }
 },
 "nbformat": 4,
 "nbformat_minor": 2
}
