{
 "cells": [
  {
   "cell_type": "code",
   "execution_count": 22,
   "metadata": {},
   "outputs": [
    {
     "name": "stdout",
     "output_type": "stream",
     "text": [
      "Objektas sukurtas\n"
     ]
    },
    {
     "data": {
      "text/plain": [
       "<__main__.Product at 0x2378a5392b0>"
      ]
     },
     "execution_count": 22,
     "metadata": {},
     "output_type": "execute_result"
    }
   ],
   "source": [
    "#Parašykite klasę, turinčią konstruktorių. Konstruktorius turi\n",
    "#spausdinti pranešimą, jog objektas yra sukurtas.\n",
    "\n",
    "class Product() :\n",
    "    def __init__(self) :\n",
    "        print(\"Objektas sukurtas\")\n",
    "\n",
    "Product()    \n",
    "\n",
    "   "
   ]
  },
  {
   "cell_type": "code",
   "execution_count": 25,
   "metadata": {},
   "outputs": [
    {
     "name": "stdout",
     "output_type": "stream",
     "text": [
      "Objektas sukurtas\n",
      "Objektas sunaikinamas\n"
     ]
    }
   ],
   "source": [
    "#Parašykite klasę, kuri turėtų konstruktorių, destruktorių. Abu\n",
    "#turi spausdinti informacinį pranešimą, jog objektas yra\n",
    "#sukurtas/sunaikintas.\n",
    "\n",
    "class Product() :\n",
    "    def __init__(x) :\n",
    "        print(\"Objektas sukurtas\")\n",
    "\n",
    "    def __del__(self) :\n",
    "        print(\"Objektas sunaikinamas\")\n",
    "\n",
    "produktas = Product()\n",
    "    \n",
    "del produktas"
   ]
  },
  {
   "cell_type": "code",
   "execution_count": 21,
   "metadata": {},
   "outputs": [
    {
     "name": "stdout",
     "output_type": "stream",
     "text": [
      "Kalėdos\n"
     ]
    }
   ],
   "source": [
    "#Parašykite klasę, kuri turėtų vieną atributą. Pasiekite jo\n",
    "#reikšmę, išveskite. Pakeiskite atributo reikšmę. Patikrinkite,\n",
    "#ar reikšmė pakito.\n",
    "\n",
    "class Sventes () :\n",
    "    def __init__(self, pavadinimas) :\n",
    "        self.pavadinimas = pavadinimas\n",
    "\n",
    "product = Sventes (\"Kalėdos\")\n",
    "\n",
    "print (product.pavadinimas)"
   ]
  },
  {
   "cell_type": "code",
   "execution_count": 20,
   "metadata": {},
   "outputs": [
    {
     "name": "stdout",
     "output_type": "stream",
     "text": [
      "Kalėdos\n",
      "Žiema\n"
     ]
    }
   ],
   "source": [
    "#Prie ankstesnės klasės pridėkite metodus, skirtus išvesti\n",
    "#atributo reikšmę, pakeisti atributo reikšmę. patikrinkite, ar jie\n",
    "#veikia.\n",
    "\n",
    "class Sventes () :\n",
    "\n",
    "    def __init__ (self, pavadinimas, laikas):\n",
    "        self.pavadinimas = pavadinimas\n",
    "        self.laikas = laikas\n",
    "\n",
    "x = Sventes (\"Kalėdos\", \"Žiema\")\n",
    "\n",
    "print(x.pavadinimas)\n",
    "print(x.laikas)"
   ]
  },
  {
   "cell_type": "code",
   "execution_count": 1,
   "metadata": {},
   "outputs": [
    {
     "name": "stdout",
     "output_type": "stream",
     "text": [
      "SAMSUNG\n",
      "5\n"
     ]
    }
   ],
   "source": [
    "#Aprašykite klasę “Televizorius” su nurodytomis savybėmis: \n",
    "#Gamintojas, \n",
    "#Kanalas \n",
    "#Garsas. \n",
    "#Gamintojo pavadinimą priskirkite konstruktoriuje kaip gautą parametrą. Vos tik įjungus televizorių turėtų būti parinktas pirmas kanalas, o garso lygis 50. Sukurkite metodus \n",
    "#kurie padidintų ir sumažintų televizoriaus garsą, tačiau šis niekuomet negali būti žemiau nei 0 ir aukščiau nei 100. \n",
    "#Sukurkite metodą kuris keistų kanalą, tačiau atkreipkite dėmesį, kad gal televizorius jų turi tik 50, tad jei pultelyje įvesite didesnį skaičių, kanalas turi \n",
    "# būti pakeičiamas į pirmajį.\n",
    "#Sukurkite metodą, kuris atstatytų televizorių atgal į gamyklinius parametrus.\n",
    "#Sukurkite metodą, kuris grąžintų eilutę “Televizorius ‘Sony’ šiuo metu rodo 8 kanalą. Garso lygis 76.”\n",
    "\n",
    "\n",
    "class Televizorius () :\n",
    "\n",
    "    def __init__(self, gamintojas, kanalas, garsas):\n",
    "        self.gamintojas = gamintojas\n",
    "        self.kanalas = kanalas\n",
    "        self.garsas = garsas\n",
    "\n",
    "    def get_gamintojas(self):\n",
    "        return self.gamintojas\n",
    "    \n",
    "    def set_kanalas (self, kanalas):\n",
    "        if kanalas == 1 :\n",
    "            self.kanalas = kanalas\n",
    "        else :\n",
    "            self.kanalas = 'nope'\n",
    "\n",
    "    def get_kanalas (self):\n",
    "        return self.kanalas\n",
    "\n",
    "   \n",
    "    kanalas = 5\n",
    "    \n",
    "    gamintojas = \"SAMSUNG\"\n",
    "    \n",
    "    print(gamintojas)\n",
    "    print(kanalas)\n",
    "\n",
    "    \n",
    "\n",
    "\n",
    "\n"
   ]
  },
  {
   "cell_type": "code",
   "execution_count": 64,
   "metadata": {},
   "outputs": [
    {
     "name": "stdout",
     "output_type": "stream",
     "text": [
      "Mokinio vardas: Eivydas\n",
      "Mokinio vardas: Ramunė\n",
      "Mokinio pavardė: Jakubka\n",
      "Didžiausias pažymys: 10\n",
      "Mažiausias pažymys: 2\n",
      "Pažymių vidurkis: 6.8\n",
      "Egzaminų rezultatai: [9, 5, 8, 6]\n",
      "Egzaminų vidurkis: 7.0\n",
      "Bendras rezultatų vidurkis: 6.9\n"
     ]
    }
   ],
   "source": [
    "#Sukurkite Mokinys klasę, kuri turės mokinio vardą, pavardę ir sąrašą pažymių. Įtraukite metodus, kurie \n",
    "# skaičiuotų vidurkį, didžiausią ir mažiausią pažymį.\n",
    "#Sukurkite Abiturientas klasę, kuri paveldi Mokinys klasę ir prideda papildomą funkcionalumą, pvz., \n",
    "#gebėjimą pridėti egzamino rezultatus ir skaičiuoti bendrą vidurkį, įskaitant ir egzamino rezultatus.\n",
    "\n",
    "class Mokinys ():\n",
    "    def __init__(self, vardas, pavarde, pazymiai):\n",
    "        self.vardas = vardas\n",
    "        self.pavarde = pavarde\n",
    "        self.pazymiai = pazymiai\n",
    "\n",
    "    def get_vardas (self) :\n",
    "        return f\"Mokinio vardas: {self.vardas}\"\n",
    "            \n",
    "    def get_pavarde (self) :\n",
    "        return f\"Mokinio pavardė: {self.pavarde}\"\n",
    "    \n",
    "    def get_didziausiasPazymys (self) :\n",
    "        #pazymiai = pazymiai/ len(pazymiai)\n",
    "        return f\"Didžiausias pažymys: {max(self.pazymiai)}\"\n",
    "    \n",
    "    def get_maziausiasPazymys (self) :\n",
    "        return f\"Mažiausias pažymys: {min(self.pazymiai)}\"\n",
    "    \n",
    "    def get_pazymiuVidurkis (self):\n",
    "        return f\"Pažymių vidurkis: {sum(self.pazymiai)/len(self.pazymiai)}\"\n",
    "    \n",
    "mokinys = Mokinys(\"Eivydas\", \"Jakubka\", [8,9,2,10,5])\n",
    "\n",
    "print(mokinys.get_vardas())\n",
    "print(mokinys.get_pavarde())\n",
    "print(mokinys.get_didziausiasPazymys())\n",
    "print(mokinys.get_maziausiasPazymys())\n",
    "print(mokinys.get_pazymiuVidurkis())\n",
    "\n",
    "class Studentas (Mokinys):\n",
    "    def __init__(self, vardas, pavarde, pazymiai, egzaminai):\n",
    "        super().__init__(vardas, pavarde, pazymiai)\n",
    "        self.egzaminai = egzaminai\n",
    "\n",
    "    def get_egzaminųuRezultatai (self):\n",
    "        return f\"Egzaminų rezultatai: {self.egzaminai}\"\n",
    "    \n",
    "    def get_egzaminuVidurkis (self):\n",
    "        return f\"Egzaminų vidurkis: {sum(self.egzaminai)/len(self.egzaminai)}\"\n",
    "\n",
    "    def get_bendrasVidurkis (self):\n",
    "        return f\"Bendras rezultatų vidurkis: {((sum(self.egzaminai)/len(self.egzaminai))+(sum(self.pazymiai)/len(self.pazymiai)))/2}\"\n",
    "    \n",
    "egzaminai = Studentas(\"Eivydas\", \"Jakubka\", [8,9,2,10,5], [9,5,8,6])\n",
    "\n",
    "print(egzaminai.get_egzaminųuRezultatai())\n",
    "print(egzaminai.get_egzaminuVidurkis())\n",
    "print(egzaminai.get_bendrasVidurkis())"
   ]
  },
  {
   "cell_type": "code",
   "execution_count": 108,
   "metadata": {},
   "outputs": [
    {
     "name": "stdout",
     "output_type": "stream",
     "text": [
      "Jonas Jonaitis 5.25\n",
      "Mokinys pašalintas\n",
      "Darius Jonaitis 6.0\n",
      "Mokinys pašalintas\n",
      "Auguste Jonaityte 6.0\n",
      "Mokinys pašalintas\n"
     ]
    }
   ],
   "source": [
    "#Sukurkite Mokykla klasę, kuri turės sąrašą Mokinys objektų. Įtraukite metodus, kurie leistų \n",
    "#pridėti naują mokinį, pašalinti mokinį, bei skaičiuoti visos mokyklos mokinių pažymių vidurkius.\n",
    "\n",
    "class Mokykla ():\n",
    "    def __init__(self, vardas, pavarde, pazymiai):\n",
    "        self.vardas = vardas\n",
    "        self.pavarde = pavarde\n",
    "        self.pazymiai = pazymiai\n",
    "\n",
    "    def mokiniai (self):\n",
    "        print (self.vardas, self.pavarde, sum(self.pazymiai)/len(self.pazymiai))\n",
    "\n",
    "    def __del__ (self):\n",
    "        print (\"Mokinys pašalintas\")\n",
    " \n",
    "mokinys1 = Mokykla (\"Jonas\", \"Jonaitis\", [6,5,8,2])\n",
    "mokinys1.mokiniai()\n",
    "mokinys2 = Mokykla (\"Darius\", \"Jonaitis\", [2,5,7,10])\n",
    "mokinys2.mokiniai()\n",
    "mokinys3 = Mokykla (\"Auguste\", \"Jonaityte\", [2,5,8,9])\n",
    "mokinys3.mokiniai()\n",
    "\n",
    "del mokinys1\n",
    "\n",
    "\n",
    "\n",
    "\n"
   ]
  },
  {
   "cell_type": "code",
   "execution_count": null,
   "metadata": {},
   "outputs": [],
   "source": [
    "#Atnaujinkite Mokinys klasę. Sukurkite metodus, kurie leistų saugiai pridėti ir gauti pažymius, užtikrinant, \n",
    "#kad nebūtų galima pridėti netinkamų pažymių (pvz., neigiamų ar didesnių nei 10)."
   ]
  }
 ],
 "metadata": {
  "kernelspec": {
   "display_name": "Python 3",
   "language": "python",
   "name": "python3"
  },
  "language_info": {
   "codemirror_mode": {
    "name": "ipython",
    "version": 3
   },
   "file_extension": ".py",
   "mimetype": "text/x-python",
   "name": "python",
   "nbconvert_exporter": "python",
   "pygments_lexer": "ipython3",
   "version": "3.13.0"
  }
 },
 "nbformat": 4,
 "nbformat_minor": 2
}
