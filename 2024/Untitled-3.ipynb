{
 "cells": [
  {
   "cell_type": "code",
   "execution_count": 2,
   "metadata": {},
   "outputs": [
    {
     "data": {
      "text/plain": [
       "{1, 2, 3, 4, 5, 6, 'a', 'b'}"
      ]
     },
     "execution_count": 2,
     "metadata": {},
     "output_type": "execute_result"
    }
   ],
   "source": [
    "#rinkinių sąjunga\n",
    "set1={1,2,3,4,'a'}\n",
    "set2={1,2,3,5,6,'b'}\n",
    "\n",
    "print(set1.union(set2))"
   ]
  },
  {
   "cell_type": "code",
   "execution_count": 3,
   "metadata": {},
   "outputs": [
    {
     "name": "stdout",
     "output_type": "stream",
     "text": [
      "{1, 2, 3}\n"
     ]
    }
   ],
   "source": [
    "#bendri elementai\n",
    "set1={1,2,3,4,'a'}\n",
    "set2={1,2,3,5,6,'b'}\n",
    "\n",
    "print(set1.intersection(set2))"
   ]
  },
  {
   "cell_type": "code",
   "execution_count": 4,
   "metadata": {},
   "outputs": [
    {
     "name": "stdout",
     "output_type": "stream",
     "text": [
      "{'a', 4}\n"
     ]
    }
   ],
   "source": [
    "set1={1,2,3,4,'a'}\n",
    "set2={1,2,3,5,6,'b'}\n",
    "\n",
    "print(set1.difference(set2))"
   ]
  },
  {
   "cell_type": "code",
   "execution_count": 9,
   "metadata": {},
   "outputs": [
    {
     "name": "stdout",
     "output_type": "stream",
     "text": [
      "{4, 5, 6, 'b', 'a'}\n"
     ]
    }
   ],
   "source": [
    "set1={1,1,1,2,3,4,4,'a'}\n",
    "set2={1,2,3,5,6,'b'}\n",
    "print(set1.symmetric_difference(set2))\n"
   ]
  },
  {
   "cell_type": "code",
   "execution_count": 59,
   "metadata": {},
   "outputs": [
    {
     "name": "stdout",
     "output_type": "stream",
     "text": [
      "[1, 2, 3, 4, 5, 8]\n"
     ]
    }
   ],
   "source": [
    "l = [1,1,2,2,3,4,5,5,5,8,8,1,2]\n",
    "new = set(l)\n",
    "new1 = list(new)\n",
    "print(new1)\n",
    "\n",
    "\n"
   ]
  },
  {
   "cell_type": "code",
   "execution_count": 1,
   "metadata": {},
   "outputs": [
    {
     "name": "stdout",
     "output_type": "stream",
     "text": [
      "Pelnas pardavus prekes 91237.0 Eur\n"
     ]
    }
   ],
   "source": [
    "d1 = {\"cost_price\": 32.67,\n",
    "\"sell_price\": 45.00,\n",
    "\"inventory\": 1200}\n",
    "d2 = {\"cost_price\": 225.89,\n",
    "\"sell_price\": 550.00,\n",
    "\"inventory\": 100}\n",
    "d3 = {\"cost_price\": 2.77,\n",
    "\"sell_price\": 7.95,\n",
    "\"inventory\": 8500}\n",
    "\n",
    "pelnas1= (d1[\"sell_price\"] - d1[\"cost_price\"]) * d1[\"inventory\"]\n",
    "pelnas2= (d2[\"sell_price\"] - d2[\"cost_price\"]) * d2[\"inventory\"]\n",
    "pelnas3= (d3[\"sell_price\"] - d3[\"cost_price\"]) * d3[\"inventory\"]\n",
    "pelnas = pelnas1 + pelnas2 + pelnas3\n",
    "print(\"Pelnas pardavus prekes\", (pelnas), \"Eur\")\n"
   ]
  },
  {
   "cell_type": "code",
   "execution_count": 47,
   "metadata": {},
   "outputs": [
    {
     "name": "stdout",
     "output_type": "stream",
     "text": [
      "[1, 9]\n",
      "['A', 'D']\n"
     ]
    }
   ],
   "source": [
    "#Parašyti funkciją, kuri priima sąrašą ir grąžina naują sąrašą supaskutiniu ir pirmu elementais iš pirmojo sąrašo. PVZ:[1,2,3,4,5,6,7,8,9] ats: [1,9]\n",
    "\n",
    "def firstandlast(data):\n",
    "    return [data[0], data[-1]]\n",
    "\n",
    "l=[1,2,3,4,5,6,7,8,9]\n",
    "abc=[\"A\", \"B\", \"C\", \"D\"]\n",
    "\n",
    "print(firstandlast(l))  \n",
    "print(firstandlast(abc))      "
   ]
  },
  {
   "cell_type": "code",
   "execution_count": 1,
   "metadata": {},
   "outputs": [],
   "source": [
    "#Parašyti funkciją greičiui tikrinti: Funkcija paima argumentą -\n",
    "#automobilio greitį. Jei greitis 50 ar mažesnis, funkcija grąžina\n",
    "#”Ok”, jei greitis didesnis nei 50 - už kiekvieną 5km/h greičio\n",
    "#viršijimą duodamas baudos taškas (pvz: greitis 70, atsakymas\n",
    "#- 4) Jei surenkami 8 taškai ir daugiau - funkcija ne tik grąžina\n",
    "#taškų sumą, bet ir priduria, jog vairuotojo teisės atimamos.\n",
    "\n",
    "def funkcija(greitis):\n",
    "    taskai=0\n",
    "    if greitis > 50 :\n",
    "        print((greitis - 50) % 5)\n",
    "\n",
    "#Pabaigti!!!\n",
    "\n",
    "        \n",
    "       \n",
    "\n",
    "\n"
   ]
  },
  {
   "cell_type": "code",
   "execution_count": 5,
   "metadata": {},
   "outputs": [
    {
     "name": "stdout",
     "output_type": "stream",
     "text": [
      "10.0\n",
      "27000\n"
     ]
    }
   ],
   "source": [
    "#Parašykite funkciją, kuri suskaičiuotų aritmetinį arba\n",
    "#geometrinį vidurkį iš pateiktų skaičių. Pateikiamų skaičių\n",
    "#kiekis neapibrėžtas. Panaudokite raktažodžius, kad\n",
    "#nurodytumėte, kokį vidurkį reikia apskaičiuoti.\n",
    "\n",
    "skaiciai = (10,10,10)\n",
    "aritmetinisvidurkis=(sum(skaiciai)/len(skaiciai))\n",
    "geometrinisvidurkis= (sum(skaiciai)**(len(skaiciai)))\n",
    "\n",
    "print (aritmetinisvidurkis)\n",
    "print (geometrinisvidurkis)\n"
   ]
  },
  {
   "cell_type": "code",
   "execution_count": 6,
   "metadata": {},
   "outputs": [
    {
     "name": "stdout",
     "output_type": "stream",
     "text": [
      "sekos aritmetinis vidurkis = 24.0\n"
     ]
    }
   ],
   "source": [
    "#Lauros sprendimas\n",
    "def vidurkiai(raktazodis, *skaicius):\n",
    "    if raktazodis == 'A':\n",
    "        print(f\"sekos aritmetinis vidurkis = {(sum(skaicius)/len(skaicius))}\")\n",
    "        sandauga = 1\n",
    "        for skaitmuo in skaicius:\n",
    "            sandauga *= skaitmuo\n",
    "    \n",
    "    \n",
    "    if raktazodis == 'G':\n",
    "        sandauga = 1\n",
    "        for skaitmuo in skaicius:\n",
    "            sandauga *= skaitmuo\n",
    "        geometrinis_vidurkis = sandauga ** (1 / len(skaicius))\n",
    "        print(f\"sekos geometrinis vidurkis = {geometrinis_vidurkis}\")\n",
    "vidurkiai('A', 2, 4, 66)"
   ]
  },
  {
   "cell_type": "code",
   "execution_count": 7,
   "metadata": {},
   "outputs": [
    {
     "name": "stdout",
     "output_type": "stream",
     "text": [
      "7.0\n",
      "4.93242414866094\n"
     ]
    }
   ],
   "source": [
    "#Mariaus prendimas\n",
    "import math\n",
    "def vidurkis(tipas, *skaiciai):\n",
    "    if tipas == \"aritmetinis\":\n",
    "        suma = sum(skaiciai)\n",
    "        n = len(skaiciai)\n",
    "        return suma / n\n",
    "    elif tipas == \"geometrinis\":\n",
    "        sandauga = math.prod(skaiciai)\n",
    "        n = len(skaiciai)\n",
    "        return sandauga ** (1 / n)\n",
    "# PVZ\n",
    "print(vidurkis(\"aritmetinis\", 12, 2))  \n",
    "print(vidurkis(\"geometrinis\", 12, 2, 5))"
   ]
  },
  {
   "cell_type": "code",
   "execution_count": 46,
   "metadata": {},
   "outputs": [
    {
     "name": "stdout",
     "output_type": "stream",
     "text": [
      "3-jų lentynų komplektas Tobi 3P, baltas\n",
      "49.41\n",
      "3.7\n",
      "suma = 605.04\n",
      "vidurkis = 201.67999999999998\n"
     ]
    }
   ],
   "source": [
    "# Pirma dalis: Aprašykite funkciją kuri patikrinintų duomenis ir grąžintų visų produktų kainos sumą, bei įvertinimo vidurkį.\n",
    "\n",
    "# Antra dalis, iš vieno iš produktų žodyno pašalinkite kainos raktažodį su reikšme. Modifikuokite funkciją, jog iš išmestų klaidą (assert), jeigu prie duomenų truksta bent vienos nurodytos kainos.\n",
    "\n",
    "Užsirašyti sprendimą!!!!"
   ]
  },
  {
   "cell_type": "code",
   "execution_count": 47,
   "metadata": {},
   "outputs": [
    {
     "name": "stdout",
     "output_type": "stream",
     "text": [
      "[17, 13, 23, 9, 22, 5, 20, 19, 13, 7, 7, 25, 21, 22, 22, 21, 24, 12, 15, 11, 14, 23, 21, 20, 18, 20, 17, 21, 7, 5]\n"
     ]
    }
   ],
   "source": [
    "#Sugeneruokite sąrašą kuriame patalpinkite 30 elementų (indeksai nuo 0 iki 29), kurių reikšmės yra atsitiktiniai skaičiai nuo 5 iki 25.\n",
    "\n",
    "import random\n",
    "def skaiciuGeneravimas(ilgis) :\n",
    "    skaiciai = []\n",
    "    for indeksas in range(ilgis) :\n",
    "        skaiciai.append(random.randint(5, 25))\n",
    "    return skaiciai\n",
    "skaiciai = skaiciuGeneravimas(30)\n",
    "print(skaiciai)"
   ]
  },
  {
   "cell_type": "code",
   "execution_count": 122,
   "metadata": {},
   "outputs": [
    {
     "name": "stdout",
     "output_type": "stream",
     "text": [
      "[24, 6, 23, 13, 7, 24, 22, 14, 18, 9]\n",
      "Skaičių didesnių nei dešimt yra:  7\n"
     ]
    }
   ],
   "source": [
    "#Sukurkite funkciją kuri priimtų vieną parametrą (sąrašą) ir grąžintų atgal kiek sąraše yra reikšmių didesnių už 10;\n",
    "\n",
    "def didesniNeiDesimt (skaiciai):\n",
    "    skaiciuotuvas = 0\n",
    "\n",
    "    for skaicius in skaiciai:\n",
    "        if skaicius > 10:\n",
    "            skaiciuotuvas += 1\n",
    "\n",
    "    return skaiciuotuvas\n",
    "\n",
    "duomenys = skaiciuGeneravimas(10)\n",
    "print (duomenys)\n",
    "print (\"Skaičių didesnių nei dešimt yra: \", didesniNeiDesimt(duomenys))\n",
    "\n",
    "    "
   ]
  },
  {
   "cell_type": "code",
   "execution_count": 14,
   "metadata": {},
   "outputs": [
    {
     "ename": "NameError",
     "evalue": "name 'skaiciuGeneravimas' is not defined",
     "output_type": "error",
     "traceback": [
      "\u001b[1;31m---------------------------------------------------------------------------\u001b[0m",
      "\u001b[1;31mNameError\u001b[0m                                 Traceback (most recent call last)",
      "Cell \u001b[1;32mIn[14], line 17\u001b[0m\n\u001b[0;32m     14\u001b[0m     \u001b[38;5;28;01melse\u001b[39;00m: \n\u001b[0;32m     15\u001b[0m         \u001b[38;5;28;01mreturn\u001b[39;00m didziausias\n\u001b[1;32m---> 17\u001b[0m duomenys\u001b[38;5;241m=\u001b[39m\u001b[43mskaiciuGeneravimas\u001b[49m(\u001b[38;5;241m10\u001b[39m)\n\u001b[0;32m     18\u001b[0m \u001b[38;5;28mprint\u001b[39m(duomenys)\n\u001b[0;32m     19\u001b[0m \u001b[38;5;28mprint\u001b[39m(didziausioPaieska(duomenys, indeksai\u001b[38;5;241m=\u001b[39m\u001b[38;5;28;01mTrue\u001b[39;00m))\n",
      "\u001b[1;31mNameError\u001b[0m: name 'skaiciuGeneravimas' is not defined"
     ]
    }
   ],
   "source": [
    "#Aprašykite funkciją kuri rastų didžiausią masyvo reikšmę. Priskirkite papildomą parametrą kurį \n",
    "# perdavus funkcija taipogi grąžintų ir didžiausio skaičiaus indeksą arba indeksus jeigu yra keli;\n",
    "\n",
    "def didziausioPaieska(sarasas, **argumentai):\n",
    "    didziausias = max(sarasas)\n",
    "\n",
    "    if \"indeksai\" in argumentai.keys():\n",
    "        indeksai=[]\n",
    "        for indeksas, reiksme in enumerate(sarasas):\n",
    "            if reiksme == didziausias:\n",
    "                indeksai.append(indeksas)\n",
    "\n",
    "        return didziausias, indeksai\n",
    "    else: \n",
    "        return didziausias\n",
    "    \n",
    "duomenys=skaiciuGeneravimas(10)\n",
    "print(duomenys)\n",
    "print(didziausioPaieska(duomenys, indeksai=True))\n",
    "\n",
    "\n",
    " \n",
    "    "
   ]
  },
  {
   "cell_type": "code",
   "execution_count": 12,
   "metadata": {},
   "outputs": [
    {
     "ename": "NameError",
     "evalue": "name 'skaiciuGeneravimas' is not defined",
     "output_type": "error",
     "traceback": [
      "\u001b[1;31m---------------------------------------------------------------------------\u001b[0m",
      "\u001b[1;31mNameError\u001b[0m                                 Traceback (most recent call last)",
      "Cell \u001b[1;32mIn[12], line 3\u001b[0m\n\u001b[0;32m      1\u001b[0m \u001b[38;5;66;03m#Sukurkite funkciją kuri suskaičiuotų visų porinių (lyginių) indeksų reikšmių sumą;\u001b[39;00m\n\u001b[1;32m----> 3\u001b[0m skaiciai \u001b[38;5;241m=\u001b[39m \u001b[43mskaiciuGeneravimas\u001b[49m(\u001b[38;5;241m5\u001b[39m)\n\u001b[0;32m      5\u001b[0m \u001b[38;5;28mprint\u001b[39m(skaiciai)  \n\u001b[0;32m      6\u001b[0m \u001b[38;5;28;01mdef\u001b[39;00m \u001b[38;5;21mlyginiai\u001b[39m(data):\n",
      "\u001b[1;31mNameError\u001b[0m: name 'skaiciuGeneravimas' is not defined"
     ]
    }
   ],
   "source": [
    "#Sukurkite funkciją kuri suskaičiuotų visų porinių (lyginių) indeksų reikšmių sumą;\n",
    "\n",
    "skaiciai = skaiciuGeneravimas(5)\n",
    "\n",
    "print(skaiciai)  \n",
    "def lyginiai(data):\n",
    "    suma = 0\n",
    "    for indeksas, skaicius in enumerate(data):\n",
    "        if indeksas % 2 == 0 :\n",
    "            suma += skaicius\n",
    "    return suma\n",
    "poriniai=lyginiai(skaiciai)\n",
    "print(poriniai)"
   ]
  },
  {
   "cell_type": "code",
   "execution_count": null,
   "metadata": {},
   "outputs": [],
   "source": [
    "#Sukurkite funkciją kuri priimtų sąrašą ir grąžintų du naujus. Pirmas turi būti sudarytas iš neporinių indeksų reikšmių, \n",
    "# o kitas iš porinių; Aprašykite papildomą priimamą parametrą kurį perdavus reikšmės grąžinamuose sąrašuose būtų unikalios.\n",
    "\n",
    "\n"
   ]
  },
  {
   "cell_type": "code",
   "execution_count": 164,
   "metadata": {},
   "outputs": [
    {
     "name": "stdout",
     "output_type": "stream",
     "text": [
      "[8, 21, 22, 8, 6, 10, 16, 15, 16, 20, 13, 19, 8, 6, 10, 25, 24, 16, 5, 20]\n",
      "[8, 21, 0, 8, 6, 10, 0, 15, 0, 20, 13, 19, 8, 6, 10, 25, 0, 16, 5, 20]\n"
     ]
    }
   ],
   "source": [
    "#Sukurkite funkciją kuri priimtų sąrašą ir grąžintų jo elementus su poriniais indeksais pavertusi 0 jeigu reikšmė buvo didesnė už 15;\n",
    "#pvz [18, 22, 5, 8, 16] rezultatas [0, 22, 5, 8, 0] \n",
    "\n",
    "data=skaiciuGeneravimas(20)\n",
    "def poriniaiIndeksai(data):\n",
    "    sarasas =[]\n",
    "    for indeksas, reiksme in enumerate(data):\n",
    "        if indeksas % 2 == 0 and reiksme > 15:\n",
    "           sarasas.append(0)\n",
    "        else:\n",
    "           sarasas.append(reiksme)\n",
    "    return(sarasas)\n",
    "\n",
    "print(data)\n",
    "print(poriniaiIndeksai(data))\n",
    "\n",
    "    "
   ]
  },
  {
   "cell_type": "code",
   "execution_count": 10,
   "metadata": {},
   "outputs": [
    {
     "name": "stdout",
     "output_type": "stream",
     "text": [
      "Didesnio už 10 pirmo skaičiaus indekas: 5\n",
      "Didesnio už 10 pirmo skaičiaus indekas: 5\n"
     ]
    }
   ],
   "source": [
    "#Sukurkite funkciją kuri priimtų skaičius kaip parametrus (Ne kaip sąrašą) ir grąžintų pirmo skaičiaus \n",
    "# indeksą kurio reikšmė didesnė nei dešimt. Patalpinkite papildomą pasirenkamą parametrą, kurį perdavus \n",
    "# grąžinami visų skaičių kurie yra didesni nei dešimt indeksai.\n",
    "\n",
    "\n",
    "sarasas = [2, 5, 8, 10, 6, 50, 12, 1]\n",
    "#print(\"Skaičių sąrašas: \",sarasas)\n",
    "def pirmoDisesnisnioIndekso(sarasas, visi = True):\n",
    "    indeksuSarasas = []\n",
    "    for indeksas, reiksme in enumerate(sarasas):\n",
    "        if reiksme > 10:\n",
    "            if visi:\n",
    "                return \"Didesnio už 10 pirmo skaičiaus indekas: \" +  str(indeksas)\n",
    "            indeksuSarasas.append(indeksas)\n",
    "           \n",
    "    return \"Didesnių už 10 skaičių indeksai: \" +  str(tuple(indeksuSarasas))\n",
    "(print(pirmoDisesnisnioIndekso(sarasas)))\n",
    "(print(pirmoDisesnisnioIndekso(sarasas)))\n"
   ]
  },
  {
   "cell_type": "code",
   "execution_count": 214,
   "metadata": {},
   "outputs": [
    {
     "name": "stdout",
     "output_type": "stream",
     "text": [
      "['5', '4', ' ', '7', '7', ' ', '2', ' ', '5', '9', ' ', '1', '7', ' ', '1', '9', ' ', '1', '0', '8']\n"
     ]
    }
   ],
   "source": [
    "#Jums duotas stringas: “54 77 2 59 17 19 108”. Aprašykite funkciją kuri priima parametrą kaip stringą, sąrašą arba argumentus perduotus per kablelį. \n",
    "# Paimkite visus perduotus skaičius ir patikrinkite juos ar jie yra pirminiai. T.y. ar natūralusis skaičius yra didesnis nei 1 ir be liekanos dalinasi tik iš savęs ir iš vieneto. \n",
    "#Funkcija turi grąžinti visus skaičius kurie yra pirminiai iš anksčiau perduotų.\n",
    "#Rezultatas kurio tikimasi: [2, 59, 17, 19]\n",
    "\n"
   ]
  },
  {
   "cell_type": "code",
   "execution_count": null,
   "metadata": {},
   "outputs": [],
   "source": [
    "#Jums duotas stringas: “54 77 2 59 17 19 108”. Aprašykite funkciją kuri priima parametrą kaip stringą, \n",
    "# sąrašą arba argumentus perduotus per kablelį. Paimkite visus perduotus skaičius ir patikrinkite juos ar jie yra pirminiai. \n",
    "# T.y. ar natūralusis skaičius yra didesnis nei 1 ir be liekanos dalinasi tik iš savęs ir iš vieneto.\n",
    "rinkinis = \"54 77 2 59 17 19 108\"\n",
    "print(rinkinis.split())\n",
    "desimt = 10\n",
    "for x in desimt:\n",
    "    if 10 % (10-1):\n",
    "        \n",
    "10 % 2 == 0\n",
    "10 % 3 == 1\n",
    "10 % 4 == 2\n",
    "10 % 5 == 0\n",
    "10 % 6 == 4\n",
    "10 % 7 == 3\n",
    "10 % 8 == 2\n",
    "10 % 9 == 1\n",
    "\n",
    "11 % 2 == 1\n",
    "11 % 3 == 2\n",
    "11 % 4 == 3\n",
    "11 % 5 == 1\n",
    "11 % 6 == 5\n",
    "11 % 7 == 4\n",
    "11 % 8 == 3\n",
    "11 % 9 == 2\n",
    "11 % 10 == 1"
   ]
  },
  {
   "cell_type": "code",
   "execution_count": 37,
   "metadata": {},
   "outputs": [
    {
     "name": "stdout",
     "output_type": "stream",
     "text": [
      "(1, 2, 3, 4, 5, 6)\n",
      "9\n"
     ]
    }
   ],
   "source": [
    "#Sukurkite funkciją kuri suskaičiuotų visų porinių (lyginių) indeksų reikšmių sumą;\n",
    "\n",
    "skaiciai = (1,2,3,4,5,6)\n",
    "\n",
    "print(skaiciai)  \n",
    "def lyginiai(data):\n",
    "    suma = 0\n",
    "    for indeksas, skaicius in enumerate(data):\n",
    "        if indeksas % 2 == 0 :\n",
    "            suma += skaicius\n",
    "    return suma\n",
    "poriniai=lyginiai(skaiciai)\n",
    "print(poriniai)"
   ]
  },
  {
   "cell_type": "code",
   "execution_count": 43,
   "metadata": {},
   "outputs": [
    {
     "name": "stdout",
     "output_type": "stream",
     "text": [
      "9\n"
     ]
    }
   ],
   "source": [
    "#Sukurkite funkciją kuri suskaičiuotų visų porinių (lyginių) indeksų reikšmių sumą;\n",
    "\n",
    "def suma (data, callback) :\n",
    "    suma = 0\n",
    "\n",
    "    for indeksas, data in enumerate(data):\n",
    "        suma += callback(data, indeksas)\n",
    "\n",
    "    return suma\n",
    "\n",
    "print(suma([1,2,3,4,5,6], lambda data, indeksas : data if indeksas % 2 == 0 else 0))\n",
    "          \n"
   ]
  },
  {
   "cell_type": "code",
   "execution_count": 44,
   "metadata": {},
   "outputs": [
    {
     "name": "stdout",
     "output_type": "stream",
     "text": [
      "[88, 44, 28, 23]\n"
     ]
    }
   ],
   "source": [
    "def filtravimas(skaicius) :\n",
    "    if skaicius > 15 :\n",
    "        return True\n",
    "    else :\n",
    "        return False\n",
    "    \n",
    "sarasas = [88, 2, 44, 28, 23]\n",
    "\n",
    "# filtravimas(sarasas[0])\n",
    "# filtravimas(sarasas[1])\n",
    "\n",
    "print(list(filter(filtravimas, sarasas)))"
   ]
  },
  {
   "cell_type": "code",
   "execution_count": 77,
   "metadata": {},
   "outputs": [
    {
     "name": "stdout",
     "output_type": "stream",
     "text": [
      "[0]\n",
      "(4,)\n"
     ]
    }
   ],
   "source": [
    "#Jums duotas sąrašas su skaičiais: [-9, 25, 34, 2, 0] \n",
    "# Neigiamus skaičius apgliaubkite laužtiniais skliaustais []\n",
    "#0 - () \n",
    "# Teigiamus - {}\n",
    "\n",
    "sarasas = [-9, 25, 34, 2, 0]\n",
    "\n",
    "res = map(int, [0])\n",
    "print(list(res))\n",
    "\n",
    "res = map(int, [4])\n",
    "print(tuple(res))\n",
    "\n",
    "#print(map(skaicius : skaicius if skaicius < 0 and skaicius == 0 and skaicius > 0 else 0, sarasas)"
   ]
  },
  {
   "cell_type": "code",
   "execution_count": 90,
   "metadata": {},
   "outputs": [
    {
     "name": "stdout",
     "output_type": "stream",
     "text": [
      "[20, 40, 60, 80]\n"
     ]
    }
   ],
   "source": [
    "sarasas = [10, 20, 30, 40] #[20, 40, 60, 80]\n",
    "\n",
    "def dauginam(skaicius) :\n",
    "    return skaicius * 2\n",
    "\n",
    "rezultatas = map(dauginam, sarasas)\n",
    "\n",
    "print(list(rezultatas))"
   ]
  },
  {
   "cell_type": "code",
   "execution_count": 88,
   "metadata": {},
   "outputs": [
    {
     "name": "stdout",
     "output_type": "stream",
     "text": [
      "[{'1'}, {'2'}, {'3'}, {'4'}]\n",
      "[1, 2, 3, 4]\n",
      "[('1',), ('2',), ('3',), ('4',)]\n"
     ]
    }
   ],
   "source": [
    "s = ['1', '2', '3', '4']\n",
    "res = map(set, s)\n",
    "print(list(res))\n",
    "\n",
    "s = ['1', '2', '3', '4']\n",
    "res = map(int, s)\n",
    "print(list(res))\n",
    "\n",
    "s = ['1', '2', '3', '4']\n",
    "res = map(tuple, s)\n",
    "print(list(res))"
   ]
  }
 ],
 "metadata": {
  "kernelspec": {
   "display_name": "Python 3",
   "language": "python",
   "name": "python3"
  },
  "language_info": {
   "codemirror_mode": {
    "name": "ipython",
    "version": 3
   },
   "file_extension": ".py",
   "mimetype": "text/x-python",
   "name": "python",
   "nbconvert_exporter": "python",
   "pygments_lexer": "ipython3",
   "version": "3.13.0"
  }
 },
 "nbformat": 4,
 "nbformat_minor": 2
}
